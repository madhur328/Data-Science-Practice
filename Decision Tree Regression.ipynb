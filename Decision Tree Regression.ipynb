{
 "cells": [
  {
   "cell_type": "code",
   "execution_count": 1,
   "metadata": {},
   "outputs": [],
   "source": [
    "import pandas as pd\n",
    "from sklearn.tree import DecisionTreeRegressor\n",
    "import matplotlib.pyplot as plt\n",
    "import numpy as np"
   ]
  },
  {
   "cell_type": "code",
   "execution_count": 2,
   "metadata": {},
   "outputs": [
    {
     "data": {
      "text/html": [
       "<div>\n",
       "<style scoped>\n",
       "    .dataframe tbody tr th:only-of-type {\n",
       "        vertical-align: middle;\n",
       "    }\n",
       "\n",
       "    .dataframe tbody tr th {\n",
       "        vertical-align: top;\n",
       "    }\n",
       "\n",
       "    .dataframe thead th {\n",
       "        text-align: right;\n",
       "    }\n",
       "</style>\n",
       "<table border=\"1\" class=\"dataframe\">\n",
       "  <thead>\n",
       "    <tr style=\"text-align: right;\">\n",
       "      <th></th>\n",
       "      <th>X</th>\n",
       "      <th>y</th>\n",
       "    </tr>\n",
       "  </thead>\n",
       "  <tbody>\n",
       "    <tr>\n",
       "      <th>0</th>\n",
       "      <td>0.011562</td>\n",
       "      <td>-0.435556</td>\n",
       "    </tr>\n",
       "    <tr>\n",
       "      <th>1</th>\n",
       "      <td>0.126902</td>\n",
       "      <td>0.991959</td>\n",
       "    </tr>\n",
       "  </tbody>\n",
       "</table>\n",
       "</div>"
      ],
      "text/plain": [
       "          X         y\n",
       "0  0.011562 -0.435556\n",
       "1  0.126902  0.991959"
      ]
     },
     "execution_count": 2,
     "metadata": {},
     "output_type": "execute_result"
    }
   ],
   "source": [
    "myData = pd.read_csv('.\\\\datasets\\\\Data.csv')\n",
    "myData.head(2)"
   ]
  },
  {
   "cell_type": "code",
   "execution_count": 3,
   "metadata": {},
   "outputs": [
    {
     "data": {
      "text/plain": [
       "array([[0.01156173],\n",
       "       [0.1269017 ],\n",
       "       [0.40799266],\n",
       "       [0.47853787],\n",
       "       [0.52460608],\n",
       "       [0.74062657],\n",
       "       [0.90498954],\n",
       "       [0.95900955],\n",
       "       [1.04053036],\n",
       "       [1.33638407],\n",
       "       [1.42667198],\n",
       "       [1.50012987],\n",
       "       [2.01864464],\n",
       "       [2.15630122],\n",
       "       [2.44864451],\n",
       "       [2.48180176],\n",
       "       [2.58784674],\n",
       "       [2.66917528],\n",
       "       [2.80844126],\n",
       "       [2.878187  ],\n",
       "       [2.90822982],\n",
       "       [2.9453425 ],\n",
       "       [3.03948938],\n",
       "       [3.05280152],\n",
       "       [3.19051304],\n",
       "       [3.20615825],\n",
       "       [3.24758696],\n",
       "       [3.28761198],\n",
       "       [3.3121565 ],\n",
       "       [3.78229829],\n",
       "       [3.79670319],\n",
       "       [3.81418961],\n",
       "       [3.91577754],\n",
       "       [4.19800501],\n",
       "       [4.43766656],\n",
       "       [4.73658247],\n",
       "       [4.7563214 ],\n",
       "       [4.76509583],\n",
       "       [4.90161237],\n",
       "       [4.9094606 ]])"
      ]
     },
     "execution_count": 3,
     "metadata": {},
     "output_type": "execute_result"
    }
   ],
   "source": [
    "X = myData.iloc[:, 0:1].values\n",
    "X"
   ]
  },
  {
   "cell_type": "code",
   "execution_count": 4,
   "metadata": {},
   "outputs": [
    {
     "data": {
      "text/plain": [
       "array([[-0.43555628],\n",
       "       [ 0.99195878],\n",
       "       [ 0.91791912],\n",
       "       [ 0.88766915],\n",
       "       [ 0.86552131],\n",
       "       [ 0.48199076],\n",
       "       [ 0.61769381],\n",
       "       [ 0.57433107],\n",
       "       [ 0.5057628 ],\n",
       "       [ 0.23227136],\n",
       "       [ 0.39316594],\n",
       "       [ 0.07060765],\n",
       "       [-0.43302705],\n",
       "       [-0.55262025],\n",
       "       [-0.76936607],\n",
       "       [ 0.2983436 ],\n",
       "       [-0.85056061],\n",
       "       [-0.89047089],\n",
       "       [-0.94501646],\n",
       "       [-0.96550885],\n",
       "       [-0.79453848],\n",
       "       [-0.98080466],\n",
       "       [-0.99479199],\n",
       "       [-0.99606066],\n",
       "       [-0.99880364],\n",
       "       [ 0.34270123],\n",
       "       [-0.99438786],\n",
       "       [-0.98935811],\n",
       "       [-0.98548922],\n",
       "       [-0.80167415],\n",
       "       [ 0.12846622],\n",
       "       [-0.78220635],\n",
       "       [-0.71499115],\n",
       "       [-0.49199863],\n",
       "       [-0.27127978],\n",
       "       [ 0.52634385],\n",
       "       [ 0.04391828],\n",
       "       [ 0.05268245],\n",
       "       [ 0.1880962 ],\n",
       "       [ 0.19579847]])"
      ]
     },
     "execution_count": 4,
     "metadata": {},
     "output_type": "execute_result"
    }
   ],
   "source": [
    "y = myData.iloc[:, 1:2].values\n",
    "y\n",
    "#target variable can be inside 1D or 2D array, but independent can only be in\n",
    "#array"
   ]
  },
  {
   "cell_type": "code",
   "execution_count": 5,
   "metadata": {},
   "outputs": [],
   "source": [
    "regr = DecisionTreeRegressor(max_depth=2)"
   ]
  },
  {
   "cell_type": "code",
   "execution_count": 6,
   "metadata": {},
   "outputs": [
    {
     "data": {
      "text/plain": [
       "DecisionTreeRegressor(criterion='mse', max_depth=2, max_features=None,\n",
       "           max_leaf_nodes=None, min_impurity_decrease=0.0,\n",
       "           min_impurity_split=None, min_samples_leaf=1,\n",
       "           min_samples_split=2, min_weight_fraction_leaf=0.0,\n",
       "           presort=False, random_state=None, splitter='best')"
      ]
     },
     "execution_count": 6,
     "metadata": {},
     "output_type": "execute_result"
    }
   ],
   "source": [
    "regr.fit(X,y)"
   ]
  },
  {
   "cell_type": "code",
   "execution_count": 7,
   "metadata": {},
   "outputs": [],
   "source": [
    "y_pred = regr.predict(X)"
   ]
  },
  {
   "cell_type": "code",
   "execution_count": 8,
   "metadata": {},
   "outputs": [
    {
     "data": {
      "image/png": "[encoded data removed]",
      "text/plain": [
       "<Figure size 432x288 with 1 Axes>"
      ]
     },
     "metadata": {
      "needs_background": "light"
     },
     "output_type": "display_data"
    }
   ],
   "source": [
    "plt.figure()\n",
    "plt.scatter(X, y, s=20, edgecolor = \"black\", c=\"darkorange\", label=\"data\")\n",
    "plt.plot(X, y_pred, color=\"yellow\", label=\"max_depth=2\", linewidth=2)\n",
    "plt.xlabel(\"data\")\n",
    "plt.ylabel(\"target\")\n",
    "plt.title(\"Decision Tree Regression\")\n",
    "plt.legend()\n",
    "plt.show()\n",
    "#Here becoz of lack of data points in some regions, some lines on model show as\n",
    "#slanted lines, but we should only have either horizontal or vertical lines in\n",
    "#model plot.(we can correct by giving large number of equally spaced input\n",
    "#points using numpy)"
   ]
  },
  {
   "cell_type": "code",
   "execution_count": 9,
   "metadata": {},
   "outputs": [],
   "source": [
    "regr = DecisionTreeRegressor(max_depth=3)"
   ]
  },
  {
   "cell_type": "code",
   "execution_count": 10,
   "metadata": {},
   "outputs": [
    {
     "data": {
      "text/plain": [
       "DecisionTreeRegressor(criterion='mse', max_depth=3, max_features=None,\n",
       "           max_leaf_nodes=None, min_impurity_decrease=0.0,\n",
       "           min_impurity_split=None, min_samples_leaf=1,\n",
       "           min_samples_split=2, min_weight_fraction_leaf=0.0,\n",
       "           presort=False, random_state=None, splitter='best')"
      ]
     },
     "execution_count": 10,
     "metadata": {},
     "output_type": "execute_result"
    }
   ],
   "source": [
    "regr.fit(X,y)"
   ]
  },
  {
   "cell_type": "code",
   "execution_count": 11,
   "metadata": {},
   "outputs": [],
   "source": [
    "y_pred = regr.predict(X)"
   ]
  },
  {
   "cell_type": "code",
   "execution_count": 14,
   "metadata": {},
   "outputs": [
    {
     "data": {
      "image/png": "[encoded data removed]",
      "text/plain": [
       "<Figure size 432x288 with 1 Axes>"
      ]
     },
     "metadata": {
      "needs_background": "light"
     },
     "output_type": "display_data"
    }
   ],
   "source": [
    "plt.figure()\n",
    "plt.scatter(X, y, s=20, edgecolor = \"black\", c=\"darkorange\", label=\"data\")\n",
    "plt.plot(X, y_pred, color=\"green\", label=\"max_depth=2\", linewidth=2)\n",
    "plt.xlabel(\"data\")\n",
    "plt.ylabel(\"target\")\n",
    "plt.title(\"Decision Tree Regression\")\n",
    "plt.legend()\n",
    "plt.show()\n",
    "#Number of horizontal levels will show how many leafs are there in model"
   ]
  },
  {
   "cell_type": "code",
   "execution_count": 15,
   "metadata": {},
   "outputs": [
    {
     "data": {
      "text/plain": [
       "DecisionTreeRegressor(criterion='mse', max_depth=5, max_features=None,\n",
       "           max_leaf_nodes=None, min_impurity_decrease=0.0,\n",
       "           min_impurity_split=None, min_samples_leaf=1,\n",
       "           min_samples_split=2, min_weight_fraction_leaf=0.0,\n",
       "           presort=False, random_state=None, splitter='best')"
      ]
     },
     "execution_count": 15,
     "metadata": {},
     "output_type": "execute_result"
    }
   ],
   "source": [
    "#Fit\n",
    "regr_1 = DecisionTreeRegressor(max_depth=2)\n",
    "regr_2 = DecisionTreeRegressor(max_depth=5)\n",
    "regr_1.fit(X, y)\n",
    "regr_2.fit(X, y)"
   ]
  },
  {
   "cell_type": "code",
   "execution_count": 16,
   "metadata": {},
   "outputs": [],
   "source": [
    "#Predict\n",
    "X_test = np.arange(0.0, 5.0, 0.01)[:, np.newaxis] #equally spaced data points made into 2D array\n",
    "y_1 = regr_1.predict(X_test)\n",
    "y_2 = regr_2.predict(X_test)"
   ]
  },
  {
   "cell_type": "code",
   "execution_count": 17,
   "metadata": {},
   "outputs": [
    {
     "data": {
      "image/png": "[encoded data removed]",
      "text/plain": [
       "<Figure size 432x288 with 1 Axes>"
      ]
     },
     "metadata": {
      "needs_background": "light"
     },
     "output_type": "display_data"
    }
   ],
   "source": [
    "#plot the results\n",
    "plt.figure()\n",
    "plt.scatter(X, y, s=20, edgecolor=\"black\",\n",
    "            c=\"darkorange\", label=\"data\")\n",
    "plt.plot(X_test, y_1, color=\"yellow\",\n",
    "         label=\"max_depth=2\", linewidth=2)\n",
    "plt.plot(X_test, y_2, color=\"green\", label=\"max_depth=5\", linewidth=2)\n",
    "plt.xlabel(\"data\")\n",
    "plt.ylabel(\"target\")\n",
    "plt.title(\"Decision Tree Regression\")\n",
    "plt.legend()\n",
    "plt.show()\n",
    "#spikes in max_depth = 5 model show signs of overfitting\n",
    "#We can even place constraint on no. of data points that should be there in a \n",
    "#leaf before further splits can be considered inside it."
   ]
  },
  {
   "cell_type": "code",
   "execution_count": null,
   "metadata": {},
   "outputs": [],
   "source": []
  }
 ],
 "metadata": {
  "kernelspec": {
   "display_name": "Python 3",
   "language": "python",
   "name": "python3"
  },
  "language_info": {
   "codemirror_mode": {
    "name": "ipython",
    "version": 3
   },
   "file_extension": ".py",
   "mimetype": "text/x-python",
   "name": "python",
   "nbconvert_exporter": "python",
   "pygments_lexer": "ipython3",
   "version": "3.7.1"
  }
 },
 "nbformat": 4,
 "nbformat_minor": 2
}
