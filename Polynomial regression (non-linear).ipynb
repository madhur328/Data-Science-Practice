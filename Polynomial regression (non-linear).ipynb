{
 "cells": [
  {
   "cell_type": "code",
   "execution_count": 1,
   "metadata": {},
   "outputs": [],
   "source": [
    "import numpy as np\n",
    "import matplotlib.pyplot as myPlot\n",
    "import pandas as pd"
   ]
  },
  {
   "cell_type": "code",
   "execution_count": 2,
   "metadata": {},
   "outputs": [
    {
     "data": {
      "text/html": [
       "<div>\n",
       "<style scoped>\n",
       "    .dataframe tbody tr th:only-of-type {\n",
       "        vertical-align: middle;\n",
       "    }\n",
       "\n",
       "    .dataframe tbody tr th {\n",
       "        vertical-align: top;\n",
       "    }\n",
       "\n",
       "    .dataframe thead th {\n",
       "        text-align: right;\n",
       "    }\n",
       "</style>\n",
       "<table border=\"1\" class=\"dataframe\">\n",
       "  <thead>\n",
       "    <tr style=\"text-align: right;\">\n",
       "      <th></th>\n",
       "      <th>Temperature</th>\n",
       "      <th>Vapor_Pressure</th>\n",
       "    </tr>\n",
       "  </thead>\n",
       "  <tbody>\n",
       "    <tr>\n",
       "      <th>0</th>\n",
       "      <td>273</td>\n",
       "      <td>4.7</td>\n",
       "    </tr>\n",
       "    <tr>\n",
       "      <th>1</th>\n",
       "      <td>283</td>\n",
       "      <td>9.3</td>\n",
       "    </tr>\n",
       "  </tbody>\n",
       "</table>\n",
       "</div>"
      ],
      "text/plain": [
       "   Temperature  Vapor_Pressure\n",
       "0          273             4.7\n",
       "1          283             9.3"
      ]
     },
     "execution_count": 2,
     "metadata": {},
     "output_type": "execute_result"
    }
   ],
   "source": [
    "myData = pd.read_csv('.\\\\datasets\\\\Temperature_VaporPressure.csv')\n",
    "myData.head(2)"
   ]
  },
  {
   "cell_type": "code",
   "execution_count": 3,
   "metadata": {},
   "outputs": [
    {
     "data": {
      "text/plain": [
       "array([[273],\n",
       "       [283],\n",
       "       [293],\n",
       "       [303],\n",
       "       [313],\n",
       "       [323],\n",
       "       [333],\n",
       "       [343],\n",
       "       [353],\n",
       "       [363],\n",
       "       [373]], dtype=int64)"
      ]
     },
     "execution_count": 3,
     "metadata": {},
     "output_type": "execute_result"
    }
   ],
   "source": [
    "X = myData.iloc[:, :1].values\n",
    "X"
   ]
  },
  {
   "cell_type": "code",
   "execution_count": 4,
   "metadata": {},
   "outputs": [
    {
     "data": {
      "text/plain": [
       "array([  4.7,   9.3,  17.6,  31.7,  55.2,  92.7, 149.2, 233.7, 355.2,\n",
       "       525.6, 760. ])"
      ]
     },
     "execution_count": 4,
     "metadata": {},
     "output_type": "execute_result"
    }
   ],
   "source": [
    "y = myData.iloc[:, 1].values\n",
    "y"
   ]
  },
  {
   "cell_type": "code",
   "execution_count": 5,
   "metadata": {},
   "outputs": [
    {
     "data": {
      "image/png": "[encoded data removed]",
      "text/plain": [
       "<Figure size 432x288 with 1 Axes>"
      ]
     },
     "metadata": {
      "needs_background": "light"
     },
     "output_type": "display_data"
    }
   ],
   "source": [
    "myPlot.scatter(X,y, color='b')\n",
    "myPlot.show()"
   ]
  },
  {
   "cell_type": "code",
   "execution_count": 6,
   "metadata": {},
   "outputs": [],
   "source": [
    "from sklearn.linear_model import LinearRegression"
   ]
  },
  {
   "cell_type": "code",
   "execution_count": 7,
   "metadata": {},
   "outputs": [],
   "source": [
    "myModel_linear = LinearRegression().fit(X,y)"
   ]
  },
  {
   "cell_type": "code",
   "execution_count": 8,
   "metadata": {},
   "outputs": [
    {
     "data": {
      "image/png": "[encoded data removed]",
      "text/plain": [
       "<Figure size 432x288 with 1 Axes>"
      ]
     },
     "metadata": {
      "needs_background": "light"
     },
     "output_type": "display_data"
    }
   ],
   "source": [
    "myPlot.scatter(X,y, color='r')\n",
    "myPlot.plot(X,myModel_linear.predict(X), color='b')\n",
    "myPlot.show()"
   ]
  },
  {
   "cell_type": "code",
   "execution_count": 9,
   "metadata": {},
   "outputs": [
    {
     "data": {
      "image/png": "[encoded data removed]",
      "text/plain": [
       "<Figure size 432x288 with 1 Axes>"
      ]
     },
     "metadata": {
      "needs_background": "light"
     },
     "output_type": "display_data"
    }
   ],
   "source": [
    "#Normality test of residual\n",
    "from scipy import stats as mystats\n",
    "res = myModel_linear.predict(X) -y\n",
    "mystats.probplot(res,plot=myPlot)\n",
    "myPlot.show()"
   ]
  },
  {
   "cell_type": "code",
   "execution_count": 10,
   "metadata": {},
   "outputs": [],
   "source": [
    "from sklearn.preprocessing import PolynomialFeatures"
   ]
  },
  {
   "cell_type": "code",
   "execution_count": 12,
   "metadata": {},
   "outputs": [
    {
     "data": {
      "text/plain": [
       "array([[1.00000e+00, 2.73000e+02, 7.45290e+04],\n",
       "       [1.00000e+00, 2.83000e+02, 8.00890e+04],\n",
       "       [1.00000e+00, 2.93000e+02, 8.58490e+04],\n",
       "       [1.00000e+00, 3.03000e+02, 9.18090e+04],\n",
       "       [1.00000e+00, 3.13000e+02, 9.79690e+04],\n",
       "       [1.00000e+00, 3.23000e+02, 1.04329e+05],\n",
       "       [1.00000e+00, 3.33000e+02, 1.10889e+05],\n",
       "       [1.00000e+00, 3.43000e+02, 1.17649e+05],\n",
       "       [1.00000e+00, 3.53000e+02, 1.24609e+05],\n",
       "       [1.00000e+00, 3.63000e+02, 1.31769e+05],\n",
       "       [1.00000e+00, 3.73000e+02, 1.39129e+05]])"
      ]
     },
     "execution_count": 12,
     "metadata": {},
     "output_type": "execute_result"
    }
   ],
   "source": [
    "X_poly = PolynomialFeatures(degree=2).fit_transform(X)\n",
    "X_poly  #Q0 * X0: where X0 is 1, then Q1 * X1: where X1 is X, Q2 * X2: where X2 is X**2"
   ]
  },
  {
   "cell_type": "code",
   "execution_count": 13,
   "metadata": {},
   "outputs": [],
   "source": [
    "myModel_poly = LinearRegression().fit(X_poly,y)"
   ]
  },
  {
   "cell_type": "code",
   "execution_count": 14,
   "metadata": {},
   "outputs": [
    {
     "data": {
      "image/png": "[encoded data removed]",
      "text/plain": [
       "<Figure size 432x288 with 1 Axes>"
      ]
     },
     "metadata": {
      "needs_background": "light"
     },
     "output_type": "display_data"
    }
   ],
   "source": [
    "myPlot.scatter(X,y, color='r')\n",
    "myPlot.plot(X,myModel_poly.predict(X_poly), color='b')\n",
    "myPlot.show()"
   ]
  },
  {
   "cell_type": "code",
   "execution_count": 15,
   "metadata": {},
   "outputs": [
    {
     "data": {
      "text/plain": [
       "array([[1.0000000e+00, 2.7300000e+02, 7.4529000e+04, 2.0346417e+07],\n",
       "       [1.0000000e+00, 2.8300000e+02, 8.0089000e+04, 2.2665187e+07],\n",
       "       [1.0000000e+00, 2.9300000e+02, 8.5849000e+04, 2.5153757e+07],\n",
       "       [1.0000000e+00, 3.0300000e+02, 9.1809000e+04, 2.7818127e+07],\n",
       "       [1.0000000e+00, 3.1300000e+02, 9.7969000e+04, 3.0664297e+07],\n",
       "       [1.0000000e+00, 3.2300000e+02, 1.0432900e+05, 3.3698267e+07],\n",
       "       [1.0000000e+00, 3.3300000e+02, 1.1088900e+05, 3.6926037e+07],\n",
       "       [1.0000000e+00, 3.4300000e+02, 1.1764900e+05, 4.0353607e+07],\n",
       "       [1.0000000e+00, 3.5300000e+02, 1.2460900e+05, 4.3986977e+07],\n",
       "       [1.0000000e+00, 3.6300000e+02, 1.3176900e+05, 4.7832147e+07],\n",
       "       [1.0000000e+00, 3.7300000e+02, 1.3912900e+05, 5.1895117e+07]])"
      ]
     },
     "execution_count": 15,
     "metadata": {},
     "output_type": "execute_result"
    }
   ],
   "source": [
    "X_poly = PolynomialFeatures(degree=3)\n",
    "X_fet = X_poly.fit_transform(X)\n",
    "X_fet"
   ]
  },
  {
   "cell_type": "code",
   "execution_count": 16,
   "metadata": {},
   "outputs": [
    {
     "data": {
      "image/png": "[encoded data removed]",
      "text/plain": [
       "<Figure size 432x288 with 1 Axes>"
      ]
     },
     "metadata": {
      "needs_background": "light"
     },
     "output_type": "display_data"
    }
   ],
   "source": [
    "myModel_poly = LinearRegression().fit(X_fet,y)\n",
    "myPlot.scatter(X,y, color='r')\n",
    "myPlot.plot(X,myModel_poly.predict(X_fet), color='b')\n",
    "myPlot.show()"
   ]
  },
  {
   "cell_type": "code",
   "execution_count": 17,
   "metadata": {},
   "outputs": [
    {
     "data": {
      "text/plain": [
       "array([[1.0000000e+00, 3.5900000e+02, 1.2888100e+05, 4.6268279e+07]])"
      ]
     },
     "execution_count": 17,
     "metadata": {},
     "output_type": "execute_result"
    }
   ],
   "source": [
    "#How to predict value for a specific data point?\n",
    "#First convert data point to array of polynomial \n",
    "X_poly.transform([[359]])"
   ]
  },
  {
   "cell_type": "code",
   "execution_count": 18,
   "metadata": {},
   "outputs": [
    {
     "data": {
      "text/plain": [
       "array([457.22993979])"
      ]
     },
     "execution_count": 18,
     "metadata": {},
     "output_type": "execute_result"
    }
   ],
   "source": [
    "#Then, put the data into model for prediction\n",
    "myModel_poly.predict(X_poly.transform([[359]]))"
   ]
  },
  {
   "cell_type": "code",
   "execution_count": null,
   "metadata": {},
   "outputs": [],
   "source": []
  }
 ],
 "metadata": {
  "kernelspec": {
   "display_name": "Python 3",
   "language": "python",
   "name": "python3"
  },
  "language_info": {
   "codemirror_mode": {
    "name": "ipython",
    "version": 3
   },
   "file_extension": ".py",
   "mimetype": "text/x-python",
   "name": "python",
   "nbconvert_exporter": "python",
   "pygments_lexer": "ipython3",
   "version": "3.7.1"
  }
 },
 "nbformat": 4,
 "nbformat_minor": 2
}
